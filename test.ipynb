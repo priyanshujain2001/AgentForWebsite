{
 "cells": [
  {
   "cell_type": "code",
   "execution_count": 3,
   "metadata": {},
   "outputs": [
    {
     "name": "stdout",
     "output_type": "stream",
     "text": [
      "Collecting pinecone\n",
      "  Using cached pinecone-5.4.2-py3-none-any.whl.metadata (19 kB)\n",
      "Collecting certifi>=2019.11.17 (from pinecone)\n",
      "  Downloading certifi-2024.8.30-py3-none-any.whl.metadata (2.2 kB)\n",
      "Collecting pinecone-plugin-inference<4.0.0,>=2.0.0 (from pinecone)\n",
      "  Using cached pinecone_plugin_inference-3.1.0-py3-none-any.whl.metadata (2.2 kB)\n",
      "Collecting pinecone-plugin-interface<0.0.8,>=0.0.7 (from pinecone)\n",
      "  Using cached pinecone_plugin_interface-0.0.7-py3-none-any.whl.metadata (1.2 kB)\n",
      "Requirement already satisfied: python-dateutil>=2.5.3 in c:\\users\\priyanshu\\anaconda3\\envs\\rag_pipeline\\lib\\site-packages (from pinecone) (2.9.0.post0)\n",
      "Collecting tqdm>=4.64.1 (from pinecone)\n",
      "  Downloading tqdm-4.67.1-py3-none-any.whl.metadata (57 kB)\n",
      "Requirement already satisfied: typing-extensions>=3.7.4 in c:\\users\\priyanshu\\anaconda3\\envs\\rag_pipeline\\lib\\site-packages (from pinecone) (4.12.2)\n",
      "Collecting urllib3>=1.26.5 (from pinecone)\n",
      "  Downloading urllib3-2.2.3-py3-none-any.whl.metadata (6.5 kB)\n",
      "Requirement already satisfied: six>=1.5 in c:\\users\\priyanshu\\anaconda3\\envs\\rag_pipeline\\lib\\site-packages (from python-dateutil>=2.5.3->pinecone) (1.17.0)\n",
      "Requirement already satisfied: colorama in c:\\users\\priyanshu\\anaconda3\\envs\\rag_pipeline\\lib\\site-packages (from tqdm>=4.64.1->pinecone) (0.4.6)\n",
      "Using cached pinecone-5.4.2-py3-none-any.whl (427 kB)\n",
      "Downloading certifi-2024.8.30-py3-none-any.whl (167 kB)\n",
      "Using cached pinecone_plugin_inference-3.1.0-py3-none-any.whl (87 kB)\n",
      "Using cached pinecone_plugin_interface-0.0.7-py3-none-any.whl (6.2 kB)\n",
      "Downloading tqdm-4.67.1-py3-none-any.whl (78 kB)\n",
      "Downloading urllib3-2.2.3-py3-none-any.whl (126 kB)\n",
      "Installing collected packages: urllib3, tqdm, pinecone-plugin-interface, certifi, pinecone-plugin-inference, pinecone\n",
      "Successfully installed certifi-2024.8.30 pinecone-5.4.2 pinecone-plugin-inference-3.1.0 pinecone-plugin-interface-0.0.7 tqdm-4.67.1 urllib3-2.2.3\n"
     ]
    }
   ],
   "source": [
    "!pip install pinecone"
   ]
  },
  {
   "cell_type": "code",
   "execution_count": null,
   "metadata": {},
   "outputs": [],
   "source": []
  },
  {
   "cell_type": "code",
   "execution_count": 4,
   "metadata": {},
   "outputs": [
    {
     "name": "stderr",
     "output_type": "stream",
     "text": [
      "c:\\Users\\Priyanshu\\anaconda3\\envs\\rag_pipeline\\Lib\\site-packages\\pinecone\\data\\index.py:1: TqdmWarning: IProgress not found. Please update jupyter and ipywidgets. See https://ipywidgets.readthedocs.io/en/stable/user_install.html\n",
      "  from tqdm.autonotebook import tqdm\n"
     ]
    },
    {
     "name": "stdout",
     "output_type": "stream",
     "text": [
      "ragpipeline\n"
     ]
    }
   ],
   "source": [
    "from pinecone import Pinecone\n",
    "\n",
    "pc = Pinecone(api_key='pcsk_gQaxt_58axcDpufqoUUqvzxjzbeGJhWwHYLLes8RUy53SB6tUfZ26FqQwvsTbz5HYY45D')\n",
    "pc.Index(\"rag_pipeline\").update\n",
    "for index in pc.list_indexes():\n",
    "    print(index['name'])"
   ]
  }
 ],
 "metadata": {
  "kernelspec": {
   "display_name": "rag_pipeline",
   "language": "python",
   "name": "python3"
  },
  "language_info": {
   "codemirror_mode": {
    "name": "ipython",
    "version": 3
   },
   "file_extension": ".py",
   "mimetype": "text/x-python",
   "name": "python",
   "nbconvert_exporter": "python",
   "pygments_lexer": "ipython3",
   "version": "3.13.1"
  }
 },
 "nbformat": 4,
 "nbformat_minor": 2
}
